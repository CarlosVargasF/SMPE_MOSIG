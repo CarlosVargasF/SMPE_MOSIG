{
 "cells": [
  {
   "cell_type": "markdown",
   "metadata": {},
   "source": [
    "# Homework\n",
    "# Getting the (wrong) picture from the data - Correlation, causality\n",
    "\n",
    "Researchers measured the foot size (cm) of a large number of students. They also gave them a dictation and counted the number of mistakes e by each. Data were collected on all classes in an elementary school.  "
   ]
  },
  {
   "cell_type": "code",
   "execution_count": 30,
   "metadata": {},
   "outputs": [],
   "source": [
    "foot_size = [17.5,17.5,17.5,17.5,18,18,18,18,18.5,18.5,18.5,19,\n",
    "             19,20,20,20,20.5,20.5,20.5,20.5,21,21,21,21,21.5,\n",
    "             21.5,21.5,22,22,22,22,23,23,23,23.5,23.5,23.5,23.5,\n",
    "             24,24,24,24.5,24.5,24.5,24.5,25,25,25,25,25.5,25.5,\n",
    "             26,26,26,26.5,26.5,26.5,27,27,27,27,27.5,27.5,28,28,\n",
    "             28,28]\n",
    "\n",
    "nb_mistakes = [15,18,19,20,16,17,18,19,14,16,17,15,16,13,14,15,\n",
    "               12,13,14,15,10,11,13,15,10,12,13,8,10,11,12,8,9,\n",
    "               10,7,8,9,11,6,8,9,6,7,8,10,4,6,7,8,5,6,4,5,7,3,4,\n",
    "               5,2,3,4,7,2,3,0,1,2,4]"
   ]
  },
  {
   "cell_type": "markdown",
   "metadata": {},
   "source": [
    "The collected data is stored in a python dictionnary data structure, where each key represents a foot size and the associated values are the number of mistakes for each student having that foot size."
   ]
  },
  {
   "cell_type": "code",
   "execution_count": 10,
   "metadata": {},
   "outputs": [],
   "source": [
    "data = {17.5: [15, 18, 19, 20], 18: [16, 17, 18, 19], 18.5: [14, 16, 17],\n",
    "        19: [15, 16], 20: [13, 14, 15], 20.5: [12, 13, 14], 21: [10, 11, 13, 15],\n",
    "        21.5: [10, 12, 13], 22: [8, 10, 11, 12], 23: [8, 9, 10], 23.5: [7, 8, 9, 11],\n",
    "        24: [6, 8, 9], 24.5: [6, 7, 8, 10], 25: [4, 6, 7, 8], 25.5: [5, 6],\n",
    "        26: [4, 5, 7], 26.5: [3, 4, 5], 27: [2, 3, 4, 7], 27.5: [2, 3],\n",
    "        28: [0, 1, 2, 4], 28.5: [0, 2], 29: [0, 1, 2]}"
   ]
  },
  {
   "cell_type": "markdown",
   "metadata": {},
   "source": [
    "### - Propose a graph to represent the data."
   ]
  },
  {
   "cell_type": "code",
   "execution_count": 29,
   "metadata": {},
   "outputs": [
    {
     "data": {
      "image/png": "[encoded data removed]",
      "text/plain": [
       "<Figure size 432x288 with 1 Axes>"
      ]
     },
     "metadata": {
      "needs_background": "light"
     },
     "output_type": "display_data"
    }
   ],
   "source": [
    "from matplotlib import pyplot as plt\n",
    "\n",
    "keys, values = [*zip(*data.items())] \n",
    "plt.boxplot(values)\n",
    "plt.xticks(range(1, len(keys) + 1), keys)\n",
    "plt.xticks(rotation=90)\n",
    "plt.xlabel('Foot size (cm)')\n",
    "plt.ylabel('Number of mistakes')\n",
    "plt.grid(True)\n",
    "#plt.title(\"Boxplot\")\n",
    "\n",
    "plt.show()"
   ]
  },
  {
   "cell_type": "markdown",
   "metadata": {},
   "source": [
    "### - Note important points in your approach to build the graph\n",
    "\n",
    "Plotting the data is an important step to see how it's structure as well as to catch hidden patterns and correlations among the different attributes."
   ]
  },
  {
   "cell_type": "markdown",
   "metadata": {},
   "source": [
    "### - Why did you make that graph?\n",
    "I tried to pick a graph that keeps most of the information from the data. The boxplot allows to tracks some important properties like quartiles, the median (quartile 50) and the presence of eventual outliers."
   ]
  },
  {
   "cell_type": "markdown",
   "metadata": {},
   "source": [
    "### - What can you calculate to make a summary of the variables?\n",
    "\n",
    "I can compute basic statistic metrics like min, max, avg and std."
   ]
  },
  {
   "cell_type": "code",
   "execution_count": 36,
   "metadata": {},
   "outputs": [
    {
     "name": "stdout",
     "output_type": "stream",
     "text": [
      "Min = 0\n",
      "Max = 20\n",
      "mean = 9.686567164179104\n",
      "std = 5.073221930189104\n",
      "median = 9.0\n"
     ]
    }
   ],
   "source": [
    "import numpy as np\n",
    "\n",
    "min_ = np.min(nb_mistakes)\n",
    "max_ = np.max(nb_mistakes)\n",
    "mean = np.mean(nb_mistakes)\n",
    "std = np.std(nb_mistakes)\n",
    "median = np.median(nb_mistakes)\n",
    "\n",
    "print(f'Min = {min_}')\n",
    "print(f'Max = {max_}')\n",
    "print(f'mean = {mean}')\n",
    "print(f'std = {std}')\n",
    "print(f'median = {median}')"
   ]
  },
  {
   "cell_type": "code",
   "execution_count": 40,
   "metadata": {},
   "outputs": [
    {
     "name": "stdout",
     "output_type": "stream",
     "text": [
      "17.5 : 4\n",
      "18 : 4\n",
      "18.5 : 3\n",
      "19 : 2\n",
      "20 : 3\n",
      "20.5 : 3\n",
      "21 : 4\n",
      "21.5 : 3\n",
      "22 : 4\n",
      "23 : 3\n",
      "23.5 : 4\n",
      "24 : 3\n",
      "24.5 : 4\n",
      "25 : 4\n",
      "25.5 : 2\n",
      "26 : 3\n",
      "26.5 : 3\n",
      "27 : 4\n",
      "27.5 : 2\n",
      "28 : 4\n",
      "28.5 : 2\n",
      "29 : 3\n"
     ]
    }
   ],
   "source": [
    "for k,v in data.items():\n",
    "    printf'{k} : {len(v)}')"
   ]
  },
  {
   "cell_type": "markdown",
   "metadata": {},
   "source": [
    "### - What can we say about the size of students' feet and the number of mistakes ?\n",
    "\n",
    "The sizes range from 17.5 to 29 cm with less students with big sizes than with small ones. The number of mistakes is higher in students with smaller feet sizes."
   ]
  },
  {
   "cell_type": "markdown",
   "metadata": {},
   "source": [
    "### - What do you deduce from this graph? Does this correspond to your intuition?\n",
    "\n",
    "AT first glance it seems that there is a negative correlation between the foot size and the number of mistakes. This is completely no sense. "
   ]
  },
  {
   "cell_type": "markdown",
   "metadata": {},
   "source": [
    "### - What is happening?\n",
    "\n",
    "The most logical explanation to this behaviour is that feet size relates to student's age, so bigger size means an older student who has developped better skills to face disctates. In the initial description there is no precision about how heterogeneous is the group of students. "
   ]
  }
 ],
 "metadata": {
  "kernelspec": {
   "display_name": "Python 3",
   "language": "python",
   "name": "python3"
  },
  "language_info": {
   "codemirror_mode": {
    "name": "ipython",
    "version": 3
   },
   "file_extension": ".py",
   "mimetype": "text/x-python",
   "name": "python",
   "nbconvert_exporter": "python",
   "pygments_lexer": "ipython3",
   "version": "3.6.4"
  }
 },
 "nbformat": 4,
 "nbformat_minor": 4
}
